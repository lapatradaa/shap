{
  "nbformat": 4,
  "nbformat_minor": 0,
  "metadata": {
    "colab": {
      "provenance": [],
      "toc_visible": true,
      "include_colab_link": true
    },
    "kernelspec": {
      "name": "python3",
      "display_name": "Python 3"
    },
    "language_info": {
      "name": "python"
    }
  },
  "cells": [
    {
      "cell_type": "markdown",
      "metadata": {
        "id": "view-in-github",
        "colab_type": "text"
      },
      "source": [
        "<a href=\"https://colab.research.google.com/github/lapatradaa/shap/blob/main/predictresult_age.ipynb\" target=\"_parent\"><img src=\"https://colab.research.google.com/assets/colab-badge.svg\" alt=\"Open In Colab\"/></a>"
      ]
    },
    {
      "cell_type": "code",
      "execution_count": 1,
      "metadata": {
        "id": "FEWq_s3owi7F"
      },
      "outputs": [],
      "source": [
        "#load models"
      ]
    },
    {
      "cell_type": "code",
      "source": [
        "#เชื่อม google drive\n",
        "from google.colab import drive\n",
        "drive.mount('/content/gdrive')"
      ],
      "metadata": {
        "colab": {
          "base_uri": "https://localhost:8080/"
        },
        "id": "fR0aIwLqw5Dg",
        "outputId": "9b2743f9-94ac-4566-af82-b39579f00eed"
      },
      "execution_count": 2,
      "outputs": [
        {
          "output_type": "stream",
          "name": "stdout",
          "text": [
            "Mounted at /content/gdrive\n"
          ]
        }
      ]
    },
    {
      "cell_type": "code",
      "source": [
        "import os\n",
        "import numpy as np\n",
        "import pandas as pd\n",
        "#import efficientnet.tfkeras\n",
        "import tensorflow as tf\n",
        "from tensorflow.keras.applications import EfficientNetB0"
      ],
      "metadata": {
        "id": "YbxbqKvBwk4b"
      },
      "execution_count": 3,
      "outputs": []
    },
    {
      "cell_type": "code",
      "source": [
        "batch_size = 16\n",
        "width = 224\n",
        "height = 224\n",
        "epochs = 250 # รอบในการเทรน\n",
        "dropout_rate = 0.2\n",
        "input_shape = (height, width, 3)"
      ],
      "metadata": {
        "id": "4IWnqvh-woOX"
      },
      "execution_count": 4,
      "outputs": []
    },
    {
      "cell_type": "code",
      "source": [
        "#ดึงข้อมูลใน Github มาใช้\n",
        "import os\n",
        "%cd /content\n",
        "if not os.path.isdir(\"efficientnet_keras_transfer_learning\"):\n",
        " !git clone https://github.com/Wanita-8943/efficientnet_keras_transfer_learning\n",
        "%cd efficientnet_keras_transfer_learning/\n"
      ],
      "metadata": {
        "colab": {
          "base_uri": "https://localhost:8080/"
        },
        "id": "Z1YGIYijwrrO",
        "outputId": "76951e5a-ddaf-4d9c-f148-54910f404ed3"
      },
      "execution_count": 5,
      "outputs": [
        {
          "output_type": "stream",
          "name": "stdout",
          "text": [
            "/content\n",
            "Cloning into 'efficientnet_keras_transfer_learning'...\n",
            "remote: Enumerating objects: 1100, done.\u001b[K\n",
            "remote: Counting objects: 100% (263/263), done.\u001b[K\n",
            "remote: Compressing objects: 100% (142/142), done.\u001b[K\n",
            "remote: Total 1100 (delta 133), reused 241 (delta 121), pack-reused 837\u001b[K\n",
            "Receiving objects: 100% (1100/1100), 14.10 MiB | 23.21 MiB/s, done.\n",
            "Resolving deltas: 100% (630/630), done.\n",
            "/content/efficientnet_keras_transfer_learning\n"
          ]
        }
      ]
    },
    {
      "cell_type": "code",
      "source": [
        "import sys\n",
        "sys.path.append('/content/gdrive/MyDrive/Tooth_Shap_GPT/Deep_tooth/Model/Multi_task(Age)(7-25)/16_Multi_8e-6_250_Unfreeze.h5')\n",
        "\n",
        "from efficientnet.layers import Swish, DropConnect\n",
        "from efficientnet.model import ConvKernalInitializer\n",
        "from tensorflow.keras.utils import get_custom_objects\n",
        "\n",
        "get_custom_objects().update({\n",
        "    'ConvKernalInitializer': ConvKernalInitializer,\n",
        "    'Swish': Swish,\n",
        "    'DropConnect':DropConnect\n",
        "})\n"
      ],
      "metadata": {
        "id": "cksUFqIRwsUV"
      },
      "execution_count": 6,
      "outputs": []
    },
    {
      "cell_type": "code",
      "source": [
        "\n",
        "from tensorflow.keras.models import load_model\n",
        "model = tf.keras.models.load_model(\"/content/gdrive/MyDrive/Tooth_Shap_GPT/Deep_tooth/Model/Multi_task(Age)(7-25)/16_Multi_8e-6_250_Unfreeze.h5\")\n",
        "model.summary()\n"
      ],
      "metadata": {
        "colab": {
          "base_uri": "https://localhost:8080/"
        },
        "id": "_S4prp1lwxs8",
        "outputId": "8d4d68d6-b183-4bd7-980d-eba0ae2a0d61"
      },
      "execution_count": 7,
      "outputs": [
        {
          "output_type": "stream",
          "name": "stdout",
          "text": [
            "Model: \"model\"\n",
            "__________________________________________________________________________________________________\n",
            " Layer (type)                Output Shape                 Param #   Connected to                  \n",
            "==================================================================================================\n",
            " input_1 (InputLayer)        [(None, 224, 224, 3)]        0         []                            \n",
            "                                                                                                  \n",
            " conv2d (Conv2D)             (None, 112, 112, 32)         864       ['input_1[0][0]']             \n",
            "                                                                                                  \n",
            " batch_normalization (Batch  (None, 112, 112, 32)         128       ['conv2d[0][0]']              \n",
            " Normalization)                                                                                   \n",
            "                                                                                                  \n",
            " swish (Swish)               (None, 112, 112, 32)         0         ['batch_normalization[0][0]'] \n",
            "                                                                                                  \n",
            " depthwise_conv2d (Depthwis  (None, 112, 112, 32)         288       ['swish[0][0]']               \n",
            " eConv2D)                                                                                         \n",
            "                                                                                                  \n",
            " batch_normalization_1 (Bat  (None, 112, 112, 32)         128       ['depthwise_conv2d[0][0]']    \n",
            " chNormalization)                                                                                 \n",
            "                                                                                                  \n",
            " swish_1 (Swish)             (None, 112, 112, 32)         0         ['batch_normalization_1[0][0]'\n",
            "                                                                    ]                             \n",
            "                                                                                                  \n",
            " lambda (Lambda)             (None, 1, 1, 32)             0         ['swish_1[0][0]']             \n",
            "                                                                                                  \n",
            " conv2d_1 (Conv2D)           (None, 1, 1, 8)              264       ['lambda[0][0]']              \n",
            "                                                                                                  \n",
            " swish_2 (Swish)             (None, 1, 1, 8)              0         ['conv2d_1[0][0]']            \n",
            "                                                                                                  \n",
            " conv2d_2 (Conv2D)           (None, 1, 1, 32)             288       ['swish_2[0][0]']             \n",
            "                                                                                                  \n",
            " activation (Activation)     (None, 1, 1, 32)             0         ['conv2d_2[0][0]']            \n",
            "                                                                                                  \n",
            " multiply (Multiply)         (None, 112, 112, 32)         0         ['activation[0][0]',          \n",
            "                                                                     'swish_1[0][0]']             \n",
            "                                                                                                  \n",
            " conv2d_3 (Conv2D)           (None, 112, 112, 16)         512       ['multiply[0][0]']            \n",
            "                                                                                                  \n",
            " batch_normalization_2 (Bat  (None, 112, 112, 16)         64        ['conv2d_3[0][0]']            \n",
            " chNormalization)                                                                                 \n",
            "                                                                                                  \n",
            " conv2d_4 (Conv2D)           (None, 112, 112, 96)         1536      ['batch_normalization_2[0][0]'\n",
            "                                                                    ]                             \n",
            "                                                                                                  \n",
            " batch_normalization_3 (Bat  (None, 112, 112, 96)         384       ['conv2d_4[0][0]']            \n",
            " chNormalization)                                                                                 \n",
            "                                                                                                  \n",
            " swish_3 (Swish)             (None, 112, 112, 96)         0         ['batch_normalization_3[0][0]'\n",
            "                                                                    ]                             \n",
            "                                                                                                  \n",
            " depthwise_conv2d_1 (Depthw  (None, 56, 56, 96)           864       ['swish_3[0][0]']             \n",
            " iseConv2D)                                                                                       \n",
            "                                                                                                  \n",
            " batch_normalization_4 (Bat  (None, 56, 56, 96)           384       ['depthwise_conv2d_1[0][0]']  \n",
            " chNormalization)                                                                                 \n",
            "                                                                                                  \n",
            " swish_4 (Swish)             (None, 56, 56, 96)           0         ['batch_normalization_4[0][0]'\n",
            "                                                                    ]                             \n",
            "                                                                                                  \n",
            " lambda_1 (Lambda)           (None, 1, 1, 96)             0         ['swish_4[0][0]']             \n",
            "                                                                                                  \n",
            " conv2d_5 (Conv2D)           (None, 1, 1, 4)              388       ['lambda_1[0][0]']            \n",
            "                                                                                                  \n",
            " swish_5 (Swish)             (None, 1, 1, 4)              0         ['conv2d_5[0][0]']            \n",
            "                                                                                                  \n",
            " conv2d_6 (Conv2D)           (None, 1, 1, 96)             480       ['swish_5[0][0]']             \n",
            "                                                                                                  \n",
            " activation_1 (Activation)   (None, 1, 1, 96)             0         ['conv2d_6[0][0]']            \n",
            "                                                                                                  \n",
            " multiply_1 (Multiply)       (None, 56, 56, 96)           0         ['activation_1[0][0]',        \n",
            "                                                                     'swish_4[0][0]']             \n",
            "                                                                                                  \n",
            " conv2d_7 (Conv2D)           (None, 56, 56, 24)           2304      ['multiply_1[0][0]']          \n",
            "                                                                                                  \n",
            " batch_normalization_5 (Bat  (None, 56, 56, 24)           96        ['conv2d_7[0][0]']            \n",
            " chNormalization)                                                                                 \n",
            "                                                                                                  \n",
            " conv2d_8 (Conv2D)           (None, 56, 56, 144)          3456      ['batch_normalization_5[0][0]'\n",
            "                                                                    ]                             \n",
            "                                                                                                  \n",
            " batch_normalization_6 (Bat  (None, 56, 56, 144)          576       ['conv2d_8[0][0]']            \n",
            " chNormalization)                                                                                 \n",
            "                                                                                                  \n",
            " swish_6 (Swish)             (None, 56, 56, 144)          0         ['batch_normalization_6[0][0]'\n",
            "                                                                    ]                             \n",
            "                                                                                                  \n",
            " depthwise_conv2d_2 (Depthw  (None, 56, 56, 144)          1296      ['swish_6[0][0]']             \n",
            " iseConv2D)                                                                                       \n",
            "                                                                                                  \n",
            " batch_normalization_7 (Bat  (None, 56, 56, 144)          576       ['depthwise_conv2d_2[0][0]']  \n",
            " chNormalization)                                                                                 \n",
            "                                                                                                  \n",
            " swish_7 (Swish)             (None, 56, 56, 144)          0         ['batch_normalization_7[0][0]'\n",
            "                                                                    ]                             \n",
            "                                                                                                  \n",
            " lambda_2 (Lambda)           (None, 1, 1, 144)            0         ['swish_7[0][0]']             \n",
            "                                                                                                  \n",
            " conv2d_9 (Conv2D)           (None, 1, 1, 6)              870       ['lambda_2[0][0]']            \n",
            "                                                                                                  \n",
            " swish_8 (Swish)             (None, 1, 1, 6)              0         ['conv2d_9[0][0]']            \n",
            "                                                                                                  \n",
            " conv2d_10 (Conv2D)          (None, 1, 1, 144)            1008      ['swish_8[0][0]']             \n",
            "                                                                                                  \n",
            " activation_2 (Activation)   (None, 1, 1, 144)            0         ['conv2d_10[0][0]']           \n",
            "                                                                                                  \n",
            " multiply_2 (Multiply)       (None, 56, 56, 144)          0         ['activation_2[0][0]',        \n",
            "                                                                     'swish_7[0][0]']             \n",
            "                                                                                                  \n",
            " conv2d_11 (Conv2D)          (None, 56, 56, 24)           3456      ['multiply_2[0][0]']          \n",
            "                                                                                                  \n",
            " batch_normalization_8 (Bat  (None, 56, 56, 24)           96        ['conv2d_11[0][0]']           \n",
            " chNormalization)                                                                                 \n",
            "                                                                                                  \n",
            " drop_connect (DropConnect)  (None, 56, 56, 24)           0         ['batch_normalization_8[0][0]'\n",
            "                                                                    ]                             \n",
            "                                                                                                  \n",
            " add (Add)                   (None, 56, 56, 24)           0         ['drop_connect[0][0]',        \n",
            "                                                                     'batch_normalization_5[0][0]'\n",
            "                                                                    ]                             \n",
            "                                                                                                  \n",
            " conv2d_12 (Conv2D)          (None, 56, 56, 144)          3456      ['add[0][0]']                 \n",
            "                                                                                                  \n",
            " batch_normalization_9 (Bat  (None, 56, 56, 144)          576       ['conv2d_12[0][0]']           \n",
            " chNormalization)                                                                                 \n",
            "                                                                                                  \n",
            " swish_9 (Swish)             (None, 56, 56, 144)          0         ['batch_normalization_9[0][0]'\n",
            "                                                                    ]                             \n",
            "                                                                                                  \n",
            " depthwise_conv2d_3 (Depthw  (None, 28, 28, 144)          3600      ['swish_9[0][0]']             \n",
            " iseConv2D)                                                                                       \n",
            "                                                                                                  \n",
            " batch_normalization_10 (Ba  (None, 28, 28, 144)          576       ['depthwise_conv2d_3[0][0]']  \n",
            " tchNormalization)                                                                                \n",
            "                                                                                                  \n",
            " swish_10 (Swish)            (None, 28, 28, 144)          0         ['batch_normalization_10[0][0]\n",
            "                                                                    ']                            \n",
            "                                                                                                  \n",
            " lambda_3 (Lambda)           (None, 1, 1, 144)            0         ['swish_10[0][0]']            \n",
            "                                                                                                  \n",
            " conv2d_13 (Conv2D)          (None, 1, 1, 6)              870       ['lambda_3[0][0]']            \n",
            "                                                                                                  \n",
            " swish_11 (Swish)            (None, 1, 1, 6)              0         ['conv2d_13[0][0]']           \n",
            "                                                                                                  \n",
            " conv2d_14 (Conv2D)          (None, 1, 1, 144)            1008      ['swish_11[0][0]']            \n",
            "                                                                                                  \n",
            " activation_3 (Activation)   (None, 1, 1, 144)            0         ['conv2d_14[0][0]']           \n",
            "                                                                                                  \n",
            " multiply_3 (Multiply)       (None, 28, 28, 144)          0         ['activation_3[0][0]',        \n",
            "                                                                     'swish_10[0][0]']            \n",
            "                                                                                                  \n",
            " conv2d_15 (Conv2D)          (None, 28, 28, 40)           5760      ['multiply_3[0][0]']          \n",
            "                                                                                                  \n",
            " batch_normalization_11 (Ba  (None, 28, 28, 40)           160       ['conv2d_15[0][0]']           \n",
            " tchNormalization)                                                                                \n",
            "                                                                                                  \n",
            " conv2d_16 (Conv2D)          (None, 28, 28, 240)          9600      ['batch_normalization_11[0][0]\n",
            "                                                                    ']                            \n",
            "                                                                                                  \n",
            " batch_normalization_12 (Ba  (None, 28, 28, 240)          960       ['conv2d_16[0][0]']           \n",
            " tchNormalization)                                                                                \n",
            "                                                                                                  \n",
            " swish_12 (Swish)            (None, 28, 28, 240)          0         ['batch_normalization_12[0][0]\n",
            "                                                                    ']                            \n",
            "                                                                                                  \n",
            " depthwise_conv2d_4 (Depthw  (None, 28, 28, 240)          6000      ['swish_12[0][0]']            \n",
            " iseConv2D)                                                                                       \n",
            "                                                                                                  \n",
            " batch_normalization_13 (Ba  (None, 28, 28, 240)          960       ['depthwise_conv2d_4[0][0]']  \n",
            " tchNormalization)                                                                                \n",
            "                                                                                                  \n",
            " swish_13 (Swish)            (None, 28, 28, 240)          0         ['batch_normalization_13[0][0]\n",
            "                                                                    ']                            \n",
            "                                                                                                  \n",
            " lambda_4 (Lambda)           (None, 1, 1, 240)            0         ['swish_13[0][0]']            \n",
            "                                                                                                  \n",
            " conv2d_17 (Conv2D)          (None, 1, 1, 10)             2410      ['lambda_4[0][0]']            \n",
            "                                                                                                  \n",
            " swish_14 (Swish)            (None, 1, 1, 10)             0         ['conv2d_17[0][0]']           \n",
            "                                                                                                  \n",
            " conv2d_18 (Conv2D)          (None, 1, 1, 240)            2640      ['swish_14[0][0]']            \n",
            "                                                                                                  \n",
            " activation_4 (Activation)   (None, 1, 1, 240)            0         ['conv2d_18[0][0]']           \n",
            "                                                                                                  \n",
            " multiply_4 (Multiply)       (None, 28, 28, 240)          0         ['activation_4[0][0]',        \n",
            "                                                                     'swish_13[0][0]']            \n",
            "                                                                                                  \n",
            " conv2d_19 (Conv2D)          (None, 28, 28, 40)           9600      ['multiply_4[0][0]']          \n",
            "                                                                                                  \n",
            " batch_normalization_14 (Ba  (None, 28, 28, 40)           160       ['conv2d_19[0][0]']           \n",
            " tchNormalization)                                                                                \n",
            "                                                                                                  \n",
            " drop_connect_1 (DropConnec  (None, 28, 28, 40)           0         ['batch_normalization_14[0][0]\n",
            " t)                                                                 ']                            \n",
            "                                                                                                  \n",
            " add_1 (Add)                 (None, 28, 28, 40)           0         ['drop_connect_1[0][0]',      \n",
            "                                                                     'batch_normalization_11[0][0]\n",
            "                                                                    ']                            \n",
            "                                                                                                  \n",
            " conv2d_20 (Conv2D)          (None, 28, 28, 240)          9600      ['add_1[0][0]']               \n",
            "                                                                                                  \n",
            " batch_normalization_15 (Ba  (None, 28, 28, 240)          960       ['conv2d_20[0][0]']           \n",
            " tchNormalization)                                                                                \n",
            "                                                                                                  \n",
            " swish_15 (Swish)            (None, 28, 28, 240)          0         ['batch_normalization_15[0][0]\n",
            "                                                                    ']                            \n",
            "                                                                                                  \n",
            " depthwise_conv2d_5 (Depthw  (None, 14, 14, 240)          2160      ['swish_15[0][0]']            \n",
            " iseConv2D)                                                                                       \n",
            "                                                                                                  \n",
            " batch_normalization_16 (Ba  (None, 14, 14, 240)          960       ['depthwise_conv2d_5[0][0]']  \n",
            " tchNormalization)                                                                                \n",
            "                                                                                                  \n",
            " swish_16 (Swish)            (None, 14, 14, 240)          0         ['batch_normalization_16[0][0]\n",
            "                                                                    ']                            \n",
            "                                                                                                  \n",
            " lambda_5 (Lambda)           (None, 1, 1, 240)            0         ['swish_16[0][0]']            \n",
            "                                                                                                  \n",
            " conv2d_21 (Conv2D)          (None, 1, 1, 10)             2410      ['lambda_5[0][0]']            \n",
            "                                                                                                  \n",
            " swish_17 (Swish)            (None, 1, 1, 10)             0         ['conv2d_21[0][0]']           \n",
            "                                                                                                  \n",
            " conv2d_22 (Conv2D)          (None, 1, 1, 240)            2640      ['swish_17[0][0]']            \n",
            "                                                                                                  \n",
            " activation_5 (Activation)   (None, 1, 1, 240)            0         ['conv2d_22[0][0]']           \n",
            "                                                                                                  \n",
            " multiply_5 (Multiply)       (None, 14, 14, 240)          0         ['activation_5[0][0]',        \n",
            "                                                                     'swish_16[0][0]']            \n",
            "                                                                                                  \n",
            " conv2d_23 (Conv2D)          (None, 14, 14, 80)           19200     ['multiply_5[0][0]']          \n",
            "                                                                                                  \n",
            " batch_normalization_17 (Ba  (None, 14, 14, 80)           320       ['conv2d_23[0][0]']           \n",
            " tchNormalization)                                                                                \n",
            "                                                                                                  \n",
            " conv2d_24 (Conv2D)          (None, 14, 14, 480)          38400     ['batch_normalization_17[0][0]\n",
            "                                                                    ']                            \n",
            "                                                                                                  \n",
            " batch_normalization_18 (Ba  (None, 14, 14, 480)          1920      ['conv2d_24[0][0]']           \n",
            " tchNormalization)                                                                                \n",
            "                                                                                                  \n",
            " swish_18 (Swish)            (None, 14, 14, 480)          0         ['batch_normalization_18[0][0]\n",
            "                                                                    ']                            \n",
            "                                                                                                  \n",
            " depthwise_conv2d_6 (Depthw  (None, 14, 14, 480)          4320      ['swish_18[0][0]']            \n",
            " iseConv2D)                                                                                       \n",
            "                                                                                                  \n",
            " batch_normalization_19 (Ba  (None, 14, 14, 480)          1920      ['depthwise_conv2d_6[0][0]']  \n",
            " tchNormalization)                                                                                \n",
            "                                                                                                  \n",
            " swish_19 (Swish)            (None, 14, 14, 480)          0         ['batch_normalization_19[0][0]\n",
            "                                                                    ']                            \n",
            "                                                                                                  \n",
            " lambda_6 (Lambda)           (None, 1, 1, 480)            0         ['swish_19[0][0]']            \n",
            "                                                                                                  \n",
            " conv2d_25 (Conv2D)          (None, 1, 1, 20)             9620      ['lambda_6[0][0]']            \n",
            "                                                                                                  \n",
            " swish_20 (Swish)            (None, 1, 1, 20)             0         ['conv2d_25[0][0]']           \n",
            "                                                                                                  \n",
            " conv2d_26 (Conv2D)          (None, 1, 1, 480)            10080     ['swish_20[0][0]']            \n",
            "                                                                                                  \n",
            " activation_6 (Activation)   (None, 1, 1, 480)            0         ['conv2d_26[0][0]']           \n",
            "                                                                                                  \n",
            " multiply_6 (Multiply)       (None, 14, 14, 480)          0         ['activation_6[0][0]',        \n",
            "                                                                     'swish_19[0][0]']            \n",
            "                                                                                                  \n",
            " conv2d_27 (Conv2D)          (None, 14, 14, 80)           38400     ['multiply_6[0][0]']          \n",
            "                                                                                                  \n",
            " batch_normalization_20 (Ba  (None, 14, 14, 80)           320       ['conv2d_27[0][0]']           \n",
            " tchNormalization)                                                                                \n",
            "                                                                                                  \n",
            " drop_connect_2 (DropConnec  (None, 14, 14, 80)           0         ['batch_normalization_20[0][0]\n",
            " t)                                                                 ']                            \n",
            "                                                                                                  \n",
            " add_2 (Add)                 (None, 14, 14, 80)           0         ['drop_connect_2[0][0]',      \n",
            "                                                                     'batch_normalization_17[0][0]\n",
            "                                                                    ']                            \n",
            "                                                                                                  \n",
            " conv2d_28 (Conv2D)          (None, 14, 14, 480)          38400     ['add_2[0][0]']               \n",
            "                                                                                                  \n",
            " batch_normalization_21 (Ba  (None, 14, 14, 480)          1920      ['conv2d_28[0][0]']           \n",
            " tchNormalization)                                                                                \n",
            "                                                                                                  \n",
            " swish_21 (Swish)            (None, 14, 14, 480)          0         ['batch_normalization_21[0][0]\n",
            "                                                                    ']                            \n",
            "                                                                                                  \n",
            " depthwise_conv2d_7 (Depthw  (None, 14, 14, 480)          4320      ['swish_21[0][0]']            \n",
            " iseConv2D)                                                                                       \n",
            "                                                                                                  \n",
            " batch_normalization_22 (Ba  (None, 14, 14, 480)          1920      ['depthwise_conv2d_7[0][0]']  \n",
            " tchNormalization)                                                                                \n",
            "                                                                                                  \n",
            " swish_22 (Swish)            (None, 14, 14, 480)          0         ['batch_normalization_22[0][0]\n",
            "                                                                    ']                            \n",
            "                                                                                                  \n",
            " lambda_7 (Lambda)           (None, 1, 1, 480)            0         ['swish_22[0][0]']            \n",
            "                                                                                                  \n",
            " conv2d_29 (Conv2D)          (None, 1, 1, 20)             9620      ['lambda_7[0][0]']            \n",
            "                                                                                                  \n",
            " swish_23 (Swish)            (None, 1, 1, 20)             0         ['conv2d_29[0][0]']           \n",
            "                                                                                                  \n",
            " conv2d_30 (Conv2D)          (None, 1, 1, 480)            10080     ['swish_23[0][0]']            \n",
            "                                                                                                  \n",
            " activation_7 (Activation)   (None, 1, 1, 480)            0         ['conv2d_30[0][0]']           \n",
            "                                                                                                  \n",
            " multiply_7 (Multiply)       (None, 14, 14, 480)          0         ['activation_7[0][0]',        \n",
            "                                                                     'swish_22[0][0]']            \n",
            "                                                                                                  \n",
            " conv2d_31 (Conv2D)          (None, 14, 14, 80)           38400     ['multiply_7[0][0]']          \n",
            "                                                                                                  \n",
            " batch_normalization_23 (Ba  (None, 14, 14, 80)           320       ['conv2d_31[0][0]']           \n",
            " tchNormalization)                                                                                \n",
            "                                                                                                  \n",
            " drop_connect_3 (DropConnec  (None, 14, 14, 80)           0         ['batch_normalization_23[0][0]\n",
            " t)                                                                 ']                            \n",
            "                                                                                                  \n",
            " add_3 (Add)                 (None, 14, 14, 80)           0         ['drop_connect_3[0][0]',      \n",
            "                                                                     'add_2[0][0]']               \n",
            "                                                                                                  \n",
            " conv2d_32 (Conv2D)          (None, 14, 14, 480)          38400     ['add_3[0][0]']               \n",
            "                                                                                                  \n",
            " batch_normalization_24 (Ba  (None, 14, 14, 480)          1920      ['conv2d_32[0][0]']           \n",
            " tchNormalization)                                                                                \n",
            "                                                                                                  \n",
            " swish_24 (Swish)            (None, 14, 14, 480)          0         ['batch_normalization_24[0][0]\n",
            "                                                                    ']                            \n",
            "                                                                                                  \n",
            " depthwise_conv2d_8 (Depthw  (None, 14, 14, 480)          12000     ['swish_24[0][0]']            \n",
            " iseConv2D)                                                                                       \n",
            "                                                                                                  \n",
            " batch_normalization_25 (Ba  (None, 14, 14, 480)          1920      ['depthwise_conv2d_8[0][0]']  \n",
            " tchNormalization)                                                                                \n",
            "                                                                                                  \n",
            " swish_25 (Swish)            (None, 14, 14, 480)          0         ['batch_normalization_25[0][0]\n",
            "                                                                    ']                            \n",
            "                                                                                                  \n",
            " lambda_8 (Lambda)           (None, 1, 1, 480)            0         ['swish_25[0][0]']            \n",
            "                                                                                                  \n",
            " conv2d_33 (Conv2D)          (None, 1, 1, 20)             9620      ['lambda_8[0][0]']            \n",
            "                                                                                                  \n",
            " swish_26 (Swish)            (None, 1, 1, 20)             0         ['conv2d_33[0][0]']           \n",
            "                                                                                                  \n",
            " conv2d_34 (Conv2D)          (None, 1, 1, 480)            10080     ['swish_26[0][0]']            \n",
            "                                                                                                  \n",
            " activation_8 (Activation)   (None, 1, 1, 480)            0         ['conv2d_34[0][0]']           \n",
            "                                                                                                  \n",
            " multiply_8 (Multiply)       (None, 14, 14, 480)          0         ['activation_8[0][0]',        \n",
            "                                                                     'swish_25[0][0]']            \n",
            "                                                                                                  \n",
            " conv2d_35 (Conv2D)          (None, 14, 14, 112)          53760     ['multiply_8[0][0]']          \n",
            "                                                                                                  \n",
            " batch_normalization_26 (Ba  (None, 14, 14, 112)          448       ['conv2d_35[0][0]']           \n",
            " tchNormalization)                                                                                \n",
            "                                                                                                  \n",
            " conv2d_36 (Conv2D)          (None, 14, 14, 672)          75264     ['batch_normalization_26[0][0]\n",
            "                                                                    ']                            \n",
            "                                                                                                  \n",
            " batch_normalization_27 (Ba  (None, 14, 14, 672)          2688      ['conv2d_36[0][0]']           \n",
            " tchNormalization)                                                                                \n",
            "                                                                                                  \n",
            " swish_27 (Swish)            (None, 14, 14, 672)          0         ['batch_normalization_27[0][0]\n",
            "                                                                    ']                            \n",
            "                                                                                                  \n",
            " depthwise_conv2d_9 (Depthw  (None, 14, 14, 672)          16800     ['swish_27[0][0]']            \n",
            " iseConv2D)                                                                                       \n",
            "                                                                                                  \n",
            " batch_normalization_28 (Ba  (None, 14, 14, 672)          2688      ['depthwise_conv2d_9[0][0]']  \n",
            " tchNormalization)                                                                                \n",
            "                                                                                                  \n",
            " swish_28 (Swish)            (None, 14, 14, 672)          0         ['batch_normalization_28[0][0]\n",
            "                                                                    ']                            \n",
            "                                                                                                  \n",
            " lambda_9 (Lambda)           (None, 1, 1, 672)            0         ['swish_28[0][0]']            \n",
            "                                                                                                  \n",
            " conv2d_37 (Conv2D)          (None, 1, 1, 28)             18844     ['lambda_9[0][0]']            \n",
            "                                                                                                  \n",
            " swish_29 (Swish)            (None, 1, 1, 28)             0         ['conv2d_37[0][0]']           \n",
            "                                                                                                  \n",
            " conv2d_38 (Conv2D)          (None, 1, 1, 672)            19488     ['swish_29[0][0]']            \n",
            "                                                                                                  \n",
            " activation_9 (Activation)   (None, 1, 1, 672)            0         ['conv2d_38[0][0]']           \n",
            "                                                                                                  \n",
            " multiply_9 (Multiply)       (None, 14, 14, 672)          0         ['activation_9[0][0]',        \n",
            "                                                                     'swish_28[0][0]']            \n",
            "                                                                                                  \n",
            " conv2d_39 (Conv2D)          (None, 14, 14, 112)          75264     ['multiply_9[0][0]']          \n",
            "                                                                                                  \n",
            " batch_normalization_29 (Ba  (None, 14, 14, 112)          448       ['conv2d_39[0][0]']           \n",
            " tchNormalization)                                                                                \n",
            "                                                                                                  \n",
            " drop_connect_4 (DropConnec  (None, 14, 14, 112)          0         ['batch_normalization_29[0][0]\n",
            " t)                                                                 ']                            \n",
            "                                                                                                  \n",
            " add_4 (Add)                 (None, 14, 14, 112)          0         ['drop_connect_4[0][0]',      \n",
            "                                                                     'batch_normalization_26[0][0]\n",
            "                                                                    ']                            \n",
            "                                                                                                  \n",
            " conv2d_40 (Conv2D)          (None, 14, 14, 672)          75264     ['add_4[0][0]']               \n",
            "                                                                                                  \n",
            " batch_normalization_30 (Ba  (None, 14, 14, 672)          2688      ['conv2d_40[0][0]']           \n",
            " tchNormalization)                                                                                \n",
            "                                                                                                  \n",
            " swish_30 (Swish)            (None, 14, 14, 672)          0         ['batch_normalization_30[0][0]\n",
            "                                                                    ']                            \n",
            "                                                                                                  \n",
            " depthwise_conv2d_10 (Depth  (None, 14, 14, 672)          16800     ['swish_30[0][0]']            \n",
            " wiseConv2D)                                                                                      \n",
            "                                                                                                  \n",
            " batch_normalization_31 (Ba  (None, 14, 14, 672)          2688      ['depthwise_conv2d_10[0][0]'] \n",
            " tchNormalization)                                                                                \n",
            "                                                                                                  \n",
            " swish_31 (Swish)            (None, 14, 14, 672)          0         ['batch_normalization_31[0][0]\n",
            "                                                                    ']                            \n",
            "                                                                                                  \n",
            " lambda_10 (Lambda)          (None, 1, 1, 672)            0         ['swish_31[0][0]']            \n",
            "                                                                                                  \n",
            " conv2d_41 (Conv2D)          (None, 1, 1, 28)             18844     ['lambda_10[0][0]']           \n",
            "                                                                                                  \n",
            " swish_32 (Swish)            (None, 1, 1, 28)             0         ['conv2d_41[0][0]']           \n",
            "                                                                                                  \n",
            " conv2d_42 (Conv2D)          (None, 1, 1, 672)            19488     ['swish_32[0][0]']            \n",
            "                                                                                                  \n",
            " activation_10 (Activation)  (None, 1, 1, 672)            0         ['conv2d_42[0][0]']           \n",
            "                                                                                                  \n",
            " multiply_10 (Multiply)      (None, 14, 14, 672)          0         ['activation_10[0][0]',       \n",
            "                                                                     'swish_31[0][0]']            \n",
            "                                                                                                  \n",
            " conv2d_43 (Conv2D)          (None, 14, 14, 112)          75264     ['multiply_10[0][0]']         \n",
            "                                                                                                  \n",
            " batch_normalization_32 (Ba  (None, 14, 14, 112)          448       ['conv2d_43[0][0]']           \n",
            " tchNormalization)                                                                                \n",
            "                                                                                                  \n",
            " drop_connect_5 (DropConnec  (None, 14, 14, 112)          0         ['batch_normalization_32[0][0]\n",
            " t)                                                                 ']                            \n",
            "                                                                                                  \n",
            " add_5 (Add)                 (None, 14, 14, 112)          0         ['drop_connect_5[0][0]',      \n",
            "                                                                     'add_4[0][0]']               \n",
            "                                                                                                  \n",
            " conv2d_44 (Conv2D)          (None, 14, 14, 672)          75264     ['add_5[0][0]']               \n",
            "                                                                                                  \n",
            " batch_normalization_33 (Ba  (None, 14, 14, 672)          2688      ['conv2d_44[0][0]']           \n",
            " tchNormalization)                                                                                \n",
            "                                                                                                  \n",
            " swish_33 (Swish)            (None, 14, 14, 672)          0         ['batch_normalization_33[0][0]\n",
            "                                                                    ']                            \n",
            "                                                                                                  \n",
            " depthwise_conv2d_11 (Depth  (None, 7, 7, 672)            16800     ['swish_33[0][0]']            \n",
            " wiseConv2D)                                                                                      \n",
            "                                                                                                  \n",
            " batch_normalization_34 (Ba  (None, 7, 7, 672)            2688      ['depthwise_conv2d_11[0][0]'] \n",
            " tchNormalization)                                                                                \n",
            "                                                                                                  \n",
            " swish_34 (Swish)            (None, 7, 7, 672)            0         ['batch_normalization_34[0][0]\n",
            "                                                                    ']                            \n",
            "                                                                                                  \n",
            " lambda_11 (Lambda)          (None, 1, 1, 672)            0         ['swish_34[0][0]']            \n",
            "                                                                                                  \n",
            " conv2d_45 (Conv2D)          (None, 1, 1, 28)             18844     ['lambda_11[0][0]']           \n",
            "                                                                                                  \n",
            " swish_35 (Swish)            (None, 1, 1, 28)             0         ['conv2d_45[0][0]']           \n",
            "                                                                                                  \n",
            " conv2d_46 (Conv2D)          (None, 1, 1, 672)            19488     ['swish_35[0][0]']            \n",
            "                                                                                                  \n",
            " activation_11 (Activation)  (None, 1, 1, 672)            0         ['conv2d_46[0][0]']           \n",
            "                                                                                                  \n",
            " multiply_11 (Multiply)      (None, 7, 7, 672)            0         ['activation_11[0][0]',       \n",
            "                                                                     'swish_34[0][0]']            \n",
            "                                                                                                  \n",
            " conv2d_47 (Conv2D)          (None, 7, 7, 192)            129024    ['multiply_11[0][0]']         \n",
            "                                                                                                  \n",
            " batch_normalization_35 (Ba  (None, 7, 7, 192)            768       ['conv2d_47[0][0]']           \n",
            " tchNormalization)                                                                                \n",
            "                                                                                                  \n",
            " conv2d_48 (Conv2D)          (None, 7, 7, 1152)           221184    ['batch_normalization_35[0][0]\n",
            "                                                                    ']                            \n",
            "                                                                                                  \n",
            " batch_normalization_36 (Ba  (None, 7, 7, 1152)           4608      ['conv2d_48[0][0]']           \n",
            " tchNormalization)                                                                                \n",
            "                                                                                                  \n",
            " swish_36 (Swish)            (None, 7, 7, 1152)           0         ['batch_normalization_36[0][0]\n",
            "                                                                    ']                            \n",
            "                                                                                                  \n",
            " depthwise_conv2d_12 (Depth  (None, 7, 7, 1152)           28800     ['swish_36[0][0]']            \n",
            " wiseConv2D)                                                                                      \n",
            "                                                                                                  \n",
            " batch_normalization_37 (Ba  (None, 7, 7, 1152)           4608      ['depthwise_conv2d_12[0][0]'] \n",
            " tchNormalization)                                                                                \n",
            "                                                                                                  \n",
            " swish_37 (Swish)            (None, 7, 7, 1152)           0         ['batch_normalization_37[0][0]\n",
            "                                                                    ']                            \n",
            "                                                                                                  \n",
            " lambda_12 (Lambda)          (None, 1, 1, 1152)           0         ['swish_37[0][0]']            \n",
            "                                                                                                  \n",
            " conv2d_49 (Conv2D)          (None, 1, 1, 48)             55344     ['lambda_12[0][0]']           \n",
            "                                                                                                  \n",
            " swish_38 (Swish)            (None, 1, 1, 48)             0         ['conv2d_49[0][0]']           \n",
            "                                                                                                  \n",
            " conv2d_50 (Conv2D)          (None, 1, 1, 1152)           56448     ['swish_38[0][0]']            \n",
            "                                                                                                  \n",
            " activation_12 (Activation)  (None, 1, 1, 1152)           0         ['conv2d_50[0][0]']           \n",
            "                                                                                                  \n",
            " multiply_12 (Multiply)      (None, 7, 7, 1152)           0         ['activation_12[0][0]',       \n",
            "                                                                     'swish_37[0][0]']            \n",
            "                                                                                                  \n",
            " conv2d_51 (Conv2D)          (None, 7, 7, 192)            221184    ['multiply_12[0][0]']         \n",
            "                                                                                                  \n",
            " batch_normalization_38 (Ba  (None, 7, 7, 192)            768       ['conv2d_51[0][0]']           \n",
            " tchNormalization)                                                                                \n",
            "                                                                                                  \n",
            " drop_connect_6 (DropConnec  (None, 7, 7, 192)            0         ['batch_normalization_38[0][0]\n",
            " t)                                                                 ']                            \n",
            "                                                                                                  \n",
            " add_6 (Add)                 (None, 7, 7, 192)            0         ['drop_connect_6[0][0]',      \n",
            "                                                                     'batch_normalization_35[0][0]\n",
            "                                                                    ']                            \n",
            "                                                                                                  \n",
            " conv2d_52 (Conv2D)          (None, 7, 7, 1152)           221184    ['add_6[0][0]']               \n",
            "                                                                                                  \n",
            " batch_normalization_39 (Ba  (None, 7, 7, 1152)           4608      ['conv2d_52[0][0]']           \n",
            " tchNormalization)                                                                                \n",
            "                                                                                                  \n",
            " swish_39 (Swish)            (None, 7, 7, 1152)           0         ['batch_normalization_39[0][0]\n",
            "                                                                    ']                            \n",
            "                                                                                                  \n",
            " depthwise_conv2d_13 (Depth  (None, 7, 7, 1152)           28800     ['swish_39[0][0]']            \n",
            " wiseConv2D)                                                                                      \n",
            "                                                                                                  \n",
            " batch_normalization_40 (Ba  (None, 7, 7, 1152)           4608      ['depthwise_conv2d_13[0][0]'] \n",
            " tchNormalization)                                                                                \n",
            "                                                                                                  \n",
            " swish_40 (Swish)            (None, 7, 7, 1152)           0         ['batch_normalization_40[0][0]\n",
            "                                                                    ']                            \n",
            "                                                                                                  \n",
            " lambda_13 (Lambda)          (None, 1, 1, 1152)           0         ['swish_40[0][0]']            \n",
            "                                                                                                  \n",
            " conv2d_53 (Conv2D)          (None, 1, 1, 48)             55344     ['lambda_13[0][0]']           \n",
            "                                                                                                  \n",
            " swish_41 (Swish)            (None, 1, 1, 48)             0         ['conv2d_53[0][0]']           \n",
            "                                                                                                  \n",
            " conv2d_54 (Conv2D)          (None, 1, 1, 1152)           56448     ['swish_41[0][0]']            \n",
            "                                                                                                  \n",
            " activation_13 (Activation)  (None, 1, 1, 1152)           0         ['conv2d_54[0][0]']           \n",
            "                                                                                                  \n",
            " multiply_13 (Multiply)      (None, 7, 7, 1152)           0         ['activation_13[0][0]',       \n",
            "                                                                     'swish_40[0][0]']            \n",
            "                                                                                                  \n",
            " conv2d_55 (Conv2D)          (None, 7, 7, 192)            221184    ['multiply_13[0][0]']         \n",
            "                                                                                                  \n",
            " batch_normalization_41 (Ba  (None, 7, 7, 192)            768       ['conv2d_55[0][0]']           \n",
            " tchNormalization)                                                                                \n",
            "                                                                                                  \n",
            " drop_connect_7 (DropConnec  (None, 7, 7, 192)            0         ['batch_normalization_41[0][0]\n",
            " t)                                                                 ']                            \n",
            "                                                                                                  \n",
            " add_7 (Add)                 (None, 7, 7, 192)            0         ['drop_connect_7[0][0]',      \n",
            "                                                                     'add_6[0][0]']               \n",
            "                                                                                                  \n",
            " conv2d_56 (Conv2D)          (None, 7, 7, 1152)           221184    ['add_7[0][0]']               \n",
            "                                                                                                  \n",
            " batch_normalization_42 (Ba  (None, 7, 7, 1152)           4608      ['conv2d_56[0][0]']           \n",
            " tchNormalization)                                                                                \n",
            "                                                                                                  \n",
            " swish_42 (Swish)            (None, 7, 7, 1152)           0         ['batch_normalization_42[0][0]\n",
            "                                                                    ']                            \n",
            "                                                                                                  \n",
            " depthwise_conv2d_14 (Depth  (None, 7, 7, 1152)           28800     ['swish_42[0][0]']            \n",
            " wiseConv2D)                                                                                      \n",
            "                                                                                                  \n",
            " batch_normalization_43 (Ba  (None, 7, 7, 1152)           4608      ['depthwise_conv2d_14[0][0]'] \n",
            " tchNormalization)                                                                                \n",
            "                                                                                                  \n",
            " swish_43 (Swish)            (None, 7, 7, 1152)           0         ['batch_normalization_43[0][0]\n",
            "                                                                    ']                            \n",
            "                                                                                                  \n",
            " lambda_14 (Lambda)          (None, 1, 1, 1152)           0         ['swish_43[0][0]']            \n",
            "                                                                                                  \n",
            " conv2d_57 (Conv2D)          (None, 1, 1, 48)             55344     ['lambda_14[0][0]']           \n",
            "                                                                                                  \n",
            " swish_44 (Swish)            (None, 1, 1, 48)             0         ['conv2d_57[0][0]']           \n",
            "                                                                                                  \n",
            " conv2d_58 (Conv2D)          (None, 1, 1, 1152)           56448     ['swish_44[0][0]']            \n",
            "                                                                                                  \n",
            " activation_14 (Activation)  (None, 1, 1, 1152)           0         ['conv2d_58[0][0]']           \n",
            "                                                                                                  \n",
            " multiply_14 (Multiply)      (None, 7, 7, 1152)           0         ['activation_14[0][0]',       \n",
            "                                                                     'swish_43[0][0]']            \n",
            "                                                                                                  \n",
            " conv2d_59 (Conv2D)          (None, 7, 7, 192)            221184    ['multiply_14[0][0]']         \n",
            "                                                                                                  \n",
            " batch_normalization_44 (Ba  (None, 7, 7, 192)            768       ['conv2d_59[0][0]']           \n",
            " tchNormalization)                                                                                \n",
            "                                                                                                  \n",
            " drop_connect_8 (DropConnec  (None, 7, 7, 192)            0         ['batch_normalization_44[0][0]\n",
            " t)                                                                 ']                            \n",
            "                                                                                                  \n",
            " add_8 (Add)                 (None, 7, 7, 192)            0         ['drop_connect_8[0][0]',      \n",
            "                                                                     'add_7[0][0]']               \n",
            "                                                                                                  \n",
            " conv2d_60 (Conv2D)          (None, 7, 7, 1152)           221184    ['add_8[0][0]']               \n",
            "                                                                                                  \n",
            " batch_normalization_45 (Ba  (None, 7, 7, 1152)           4608      ['conv2d_60[0][0]']           \n",
            " tchNormalization)                                                                                \n",
            "                                                                                                  \n",
            " swish_45 (Swish)            (None, 7, 7, 1152)           0         ['batch_normalization_45[0][0]\n",
            "                                                                    ']                            \n",
            "                                                                                                  \n",
            " depthwise_conv2d_15 (Depth  (None, 7, 7, 1152)           10368     ['swish_45[0][0]']            \n",
            " wiseConv2D)                                                                                      \n",
            "                                                                                                  \n",
            " batch_normalization_46 (Ba  (None, 7, 7, 1152)           4608      ['depthwise_conv2d_15[0][0]'] \n",
            " tchNormalization)                                                                                \n",
            "                                                                                                  \n",
            " swish_46 (Swish)            (None, 7, 7, 1152)           0         ['batch_normalization_46[0][0]\n",
            "                                                                    ']                            \n",
            "                                                                                                  \n",
            " lambda_15 (Lambda)          (None, 1, 1, 1152)           0         ['swish_46[0][0]']            \n",
            "                                                                                                  \n",
            " conv2d_61 (Conv2D)          (None, 1, 1, 48)             55344     ['lambda_15[0][0]']           \n",
            "                                                                                                  \n",
            " swish_47 (Swish)            (None, 1, 1, 48)             0         ['conv2d_61[0][0]']           \n",
            "                                                                                                  \n",
            " conv2d_62 (Conv2D)          (None, 1, 1, 1152)           56448     ['swish_47[0][0]']            \n",
            "                                                                                                  \n",
            " activation_15 (Activation)  (None, 1, 1, 1152)           0         ['conv2d_62[0][0]']           \n",
            "                                                                                                  \n",
            " multiply_15 (Multiply)      (None, 7, 7, 1152)           0         ['activation_15[0][0]',       \n",
            "                                                                     'swish_46[0][0]']            \n",
            "                                                                                                  \n",
            " conv2d_63 (Conv2D)          (None, 7, 7, 320)            368640    ['multiply_15[0][0]']         \n",
            "                                                                                                  \n",
            " batch_normalization_47 (Ba  (None, 7, 7, 320)            1280      ['conv2d_63[0][0]']           \n",
            " tchNormalization)                                                                                \n",
            "                                                                                                  \n",
            " conv2d_64 (Conv2D)          (None, 7, 7, 1280)           409600    ['batch_normalization_47[0][0]\n",
            "                                                                    ']                            \n",
            "                                                                                                  \n",
            " batch_normalization_48 (Ba  (None, 7, 7, 1280)           5120      ['conv2d_64[0][0]']           \n",
            " tchNormalization)                                                                                \n",
            "                                                                                                  \n",
            " swish_48 (Swish)            (None, 7, 7, 1280)           0         ['batch_normalization_48[0][0]\n",
            "                                                                    ']                            \n",
            "                                                                                                  \n",
            " head_pooling (GlobalAverag  (None, 1280)                 0         ['swish_48[0][0]']            \n",
            " ePooling2D)                                                                                      \n",
            "                                                                                                  \n",
            " flatten (Flatten)           (None, 62720)                0         ['swish_48[0][0]']            \n",
            "                                                                                                  \n",
            " batchNormalization (BatchN  (None, 1280)                 5120      ['head_pooling[0][0]']        \n",
            " ormalization)                                                                                    \n",
            "                                                                                                  \n",
            " BatchNormalization_1 (Batc  (None, 62720)                250880    ['flatten[0][0]']             \n",
            " hNormalization)                                                                                  \n",
            "                                                                                                  \n",
            " head_dropout (Dropout)      (None, 1280)                 0         ['batchNormalization[0][0]']  \n",
            "                                                                                                  \n",
            " Dense_layer1 (Dense)        (None, 64)                   4014144   ['BatchNormalization_1[0][0]']\n",
            "                                                                                                  \n",
            " pred_dense_1 (Dense)        (None, 64)                   81984     ['head_dropout[0][0]']        \n",
            "                                                                                                  \n",
            " BatchNormalization_2 (Batc  (None, 64)                   256       ['Dense_layer1[0][0]']        \n",
            " hNormalization)                                                                                  \n",
            "                                                                                                  \n",
            " pred_dense_2 (Dense)        (None, 32)                   2080      ['pred_dense_1[0][0]']        \n",
            "                                                                                                  \n",
            " prediction_layer (Dense)    (None, 1)                    65        ['BatchNormalization_2[0][0]']\n",
            "                                                                                                  \n",
            " prediction_layer2 (Dense)   (None, 1)                    33        ['pred_dense_2[0][0]']        \n",
            "                                                                                                  \n",
            "==================================================================================================\n",
            "Total params: 8404126 (32.06 MB)\n",
            "Trainable params: 8231606 (31.40 MB)\n",
            "Non-trainable params: 172520 (673.91 KB)\n",
            "__________________________________________________________________________________________________\n"
          ]
        }
      ]
    },
    {
      "cell_type": "code",
      "source": [
        "model.output_names"
      ],
      "metadata": {
        "colab": {
          "base_uri": "https://localhost:8080/"
        },
        "id": "KRROVn_1xbLL",
        "outputId": "b30b9c26-0431-489c-a101-cc24dc6f057a"
      },
      "execution_count": 8,
      "outputs": [
        {
          "output_type": "execute_result",
          "data": {
            "text/plain": [
              "['prediction_layer', 'prediction_layer2']"
            ]
          },
          "metadata": {},
          "execution_count": 8
        }
      ]
    },
    {
      "cell_type": "code",
      "source": [
        "model.output_names[0] # age estimation"
      ],
      "metadata": {
        "colab": {
          "base_uri": "https://localhost:8080/",
          "height": 35
        },
        "id": "bTCThAWpxdel",
        "outputId": "a8917877-3c54-465c-b55e-08df5599a03e"
      },
      "execution_count": 9,
      "outputs": [
        {
          "output_type": "execute_result",
          "data": {
            "text/plain": [
              "'prediction_layer'"
            ],
            "application/vnd.google.colaboratory.intrinsic+json": {
              "type": "string"
            }
          },
          "metadata": {},
          "execution_count": 9
        }
      ]
    },
    {
      "cell_type": "code",
      "source": [
        "model.output_names[1] # gender prediction"
      ],
      "metadata": {
        "colab": {
          "base_uri": "https://localhost:8080/",
          "height": 35
        },
        "id": "3a86AgZAxgBZ",
        "outputId": "7a938185-5a16-4b77-9b1a-faed449aafb4"
      },
      "execution_count": 10,
      "outputs": [
        {
          "output_type": "execute_result",
          "data": {
            "text/plain": [
              "'prediction_layer2'"
            ],
            "application/vnd.google.colaboratory.intrinsic+json": {
              "type": "string"
            }
          },
          "metadata": {},
          "execution_count": 10
        }
      ]
    },
    {
      "cell_type": "code",
      "source": [
        "model_layer1 = tf.keras.Model(inputs=model.input, outputs=model.get_layer('prediction_layer').output)"
      ],
      "metadata": {
        "id": "8tjFnzFDxhVk"
      },
      "execution_count": 11,
      "outputs": []
    },
    {
      "cell_type": "code",
      "source": [
        "model_layer2 = tf.keras.Model(inputs=model.input, outputs=model.get_layer('prediction_layer2').output)"
      ],
      "metadata": {
        "id": "9lCzurl9xmMk"
      },
      "execution_count": 12,
      "outputs": []
    },
    {
      "cell_type": "code",
      "source": [
        "# Assuming model_layer1 and model_layer2 are loaded correctly somewhere in your application\n",
        "\n",
        "import os\n",
        "import tensorflow as tf\n",
        "from tensorflow.keras.preprocessing import image\n",
        "from tensorflow.keras.applications.efficientnet import preprocess_input\n",
        "import numpy as np\n",
        "\n",
        "# Define a function to predict age\n",
        "def predict_age(model_layer1, img_path):\n",
        "    # Load and preprocess the image\n",
        "    img = image.load_img(img_path, target_size=(224, 224))\n",
        "    x = image.img_to_array(img)\n",
        "    x = np.expand_dims(x, axis=0)\n",
        "    x = preprocess_input(x)\n",
        "\n",
        "    # Make predictions\n",
        "    predictions1 = model_layer1.predict(x)\n",
        "\n",
        "    # Convert predictions to class labels\n",
        "    Age = 'Younger' if predictions1[0][0] == 0 else 'Older'\n",
        "\n",
        "    return Age\n",
        "\n",
        "# Define a function to predict gender\n",
        "def predict_gender(model_layer2, img_path):\n",
        "    # Load and preprocess the image\n",
        "    img = image.load_img(img_path, target_size=(224, 224))\n",
        "    x = image.img_to_array(img)\n",
        "    x = np.expand_dims(x, axis=0)\n",
        "    x = preprocess_input(x)\n",
        "\n",
        "    # Make predictions\n",
        "    predictions2 = model_layer2.predict(x)\n",
        "\n",
        "    # Convert predictions to class labels\n",
        "    gender = 'Male' if predictions2[0][0] == 1 else 'Female'\n",
        "\n",
        "    return gender\n",
        "\n",
        "# Assuming left_image_path is defined somewhere in your application\n",
        "img_path = '/content/gdrive/MyDrive/Tooth_Shap_GPT/Deep_tooth/Data_Cut_images/Test/Normal/23Y/F/Both/E244.jpg'\n",
        "\n",
        "# Predict age and gender\n",
        "predicted_age = predict_age(model_layer1, img_path)\n",
        "predicted_gender = predict_gender(model_layer2, img_path)\n",
        "\n",
        "# Print predictions\n",
        "print('Predicted age:', predicted_age)\n",
        "print('Predicted gender:', predicted_gender)\n"
      ],
      "metadata": {
        "colab": {
          "base_uri": "https://localhost:8080/"
        },
        "id": "5B3QhEYnxp_k",
        "outputId": "3d017d00-6455-41df-ba80-4657782c6705"
      },
      "execution_count": 13,
      "outputs": [
        {
          "output_type": "stream",
          "name": "stdout",
          "text": [
            "1/1 [==============================] - 2s 2s/step\n",
            "1/1 [==============================] - 2s 2s/step\n",
            "Predicted age: Older\n",
            "Predicted gender: Female\n"
          ]
        }
      ]
    },
    {
      "cell_type": "code",
      "source": [
        "\n",
        "from tensorflow.keras.preprocessing import image\n",
        "\n",
        "def predict_image(img_path, model_layer):\n",
        "    # Read the image and resize it\n",
        "    img = image.load_img(img_path, target_size=(height, width)) #รูปทุกรูปมีขนาดไม่เท่ากันจึงตั้งไว้ว่าเวลาจะให้ model ดึงรูปมาทำนายให้ดึงรูปเข้ามาตามขนาดที่ตั้งไว้ตามพารามิตเตอร์\n",
        "    # Convert it to a Numpy array with target shape.\n",
        "    x = image.img_to_array(img)  #model ไม่สามารถทำนายรูปภาพโดยตรงได้ จึงเเปลงรูปภาพให้เป็น array เเล้วให้โมเดลทำนาย\n",
        "    # Reshape\n",
        "    x = x.reshape((1,) + x.shape) # เพิ่ม ไดเมนชั่นของโมเดล ให้เป็น 4 ได้ เมนชั่น โดยที่ 1, คือบอกให้โมเดลนำเข้าทีละ 1 รูปเเล้วค่อยทำนาย เเละ + ไดเมนชั่น คือ 150 ,150 ,3(สีของ RGB)\n",
        "    x /= 255.\n",
        "    result = model.predict([x])\n",
        "    return result[0]"
      ],
      "metadata": {
        "id": "YQmYlrcOgjIM"
      },
      "execution_count": 14,
      "outputs": []
    },
    {
      "cell_type": "code",
      "source": [
        "predict_image('/content/gdrive/MyDrive/Tooth_Shap_GPT/Deep_tooth/Data_Cut_images/Test/Normal/23Y/F/Both/E244.jpg' , model_layer1)"
      ],
      "metadata": {
        "id": "iPut4Wamgnnm",
        "outputId": "207f28ce-cf70-4984-bdc6-c5bb42604513",
        "colab": {
          "base_uri": "https://localhost:8080/"
        }
      },
      "execution_count": 15,
      "outputs": [
        {
          "output_type": "stream",
          "name": "stdout",
          "text": [
            "1/1 [==============================] - 2s 2s/step\n"
          ]
        },
        {
          "output_type": "execute_result",
          "data": {
            "text/plain": [
              "array([[17.289492]], dtype=float32)"
            ]
          },
          "metadata": {},
          "execution_count": 15
        }
      ]
    },
    {
      "cell_type": "code",
      "source": [],
      "metadata": {
        "id": "3UMC_3l6iDfd"
      },
      "execution_count": 15,
      "outputs": []
    },
    {
      "cell_type": "code",
      "source": [
        "\n",
        "from tensorflow.keras.preprocessing import image\n",
        "\n",
        "def predict_image(img_path):\n",
        "    # Read the image and resize it\n",
        "    img = image.load_img(img_path, target_size=(height, width)) #รูปทุกรูปมีขนาดไม่เท่ากันจึงตั้งไว้ว่าเวลาจะให้ model ดึงรูปมาทำนายให้ดึงรูปเข้ามาตามขนาดที่ตั้งไว้ตามพารามิตเตอร์\n",
        "    # Convert it to a Numpy array with target shape.\n",
        "    x = image.img_to_array(img)  #model ไม่สามารถทำนายรูปภาพโดยตรงได้ จึงเเปลงรูปภาพให้เป็น array เเล้วให้โมเดลทำนาย\n",
        "    # Reshape\n",
        "    x = x.reshape((1,) + x.shape) # เพิ่ม ไดเมนชั่นของโมเดล ให้เป็น 4 ได้ เมนชั่น โดยที่ 1, คือบอกให้โมเดลนำเข้าทีละ 1 รูปเเล้วค่อยทำนาย เเละ + ไดเมนชั่น คือ 150 ,150 ,3(สีของ RGB)\n",
        "    x /= 255.\n",
        "    result = model.predict([x])\n",
        "    return result[0]\n"
      ],
      "metadata": {
        "id": "v_nEKxZ8hOnP"
      },
      "execution_count": 16,
      "outputs": []
    },
    {
      "cell_type": "code",
      "source": [
        "\n",
        "from tensorflow.keras.preprocessing import image\n",
        "def predict_image(img_path,model, height, width):\n",
        "    # Read the image and resize it\n",
        "    img = image.load_img(img_path, target_size=(height, width))\n",
        "    # Convert it to a Numpy array with target shape.\n",
        "    x = image.img_to_array(img)\n",
        "    # Reshape\n",
        "    x = x.reshape((1,) + x.shape)\n",
        "    x /= 255.\n",
        "    result = model.predict([x])\n",
        "\n",
        "    return result"
      ],
      "metadata": {
        "id": "JNCLudzlhx7o"
      },
      "execution_count": 17,
      "outputs": []
    },
    {
      "cell_type": "code",
      "source": [
        "img_path = '/content/gdrive/MyDrive/Tooth_Shap_GPT/Deep_tooth/Data_Cut_images/Test/Normal/23Y/F/Both/E244.jpg'\n",
        "predict_image(img_path,model_layer1, height, width)"
      ],
      "metadata": {
        "id": "20Cz7hkmh20g",
        "outputId": "7a0f98b8-d072-43a2-9245-362f9acf294c",
        "colab": {
          "base_uri": "https://localhost:8080/"
        }
      },
      "execution_count": 18,
      "outputs": [
        {
          "output_type": "stream",
          "name": "stdout",
          "text": [
            "1/1 [==============================] - 3s 3s/step\n"
          ]
        },
        {
          "output_type": "execute_result",
          "data": {
            "text/plain": [
              "array([[17.289492]], dtype=float32)"
            ]
          },
          "metadata": {},
          "execution_count": 18
        }
      ]
    },
    {
      "cell_type": "code",
      "source": [
        "\n",
        "from tensorflow.keras.preprocessing import image\n",
        "\n",
        "def predict_image(img_path):\n",
        "    # Read the image and resize it\n",
        "    img = image.load_img(img_path, target_size=(height, width)) #รูปทุกรูปมีขนาดไม่เท่ากันจึงตั้งไว้ว่าเวลาจะให้ model ดึงรูปมาทำนายให้ดึงรูปเข้ามาตามขนาดที่ตั้งไว้ตามพารามิตเตอร์\n",
        "    # Convert it to a Numpy array with target shape.\n",
        "    x = image.img_to_array(img)  #model ไม่สามารถทำนายรูปภาพโดยตรงได้ จึงเเปลงรูปภาพให้เป็น array เเล้วให้โมเดลทำนาย\n",
        "    # Reshape\n",
        "    x = x.reshape((1,) + x.shape) # เพิ่ม ไดเมนชั่นของโมเดล ให้เป็น 4 ได้ เมนชั่น โดยที่ 1, คือบอกให้โมเดลนำเข้าทีละ 1 รูปเเล้วค่อยทำนาย เเละ + ไดเมนชั่น คือ 150 ,150 ,3(สีของ RGB)\n",
        "    x /= 255.\n",
        "    result = model.predict([x])\n",
        "    return result[0]"
      ],
      "metadata": {
        "id": "Bje8T3uplnqa"
      },
      "execution_count": 21,
      "outputs": []
    },
    {
      "cell_type": "code",
      "source": [
        "img_path='/content/gdrive/MyDrive/Tooth_Shap_GPT/Deep_tooth/Data_Cut_images/Normal/7Y/F/Both/FlipV1.jpg'\n",
        "predict_image(img_path)\n"
      ],
      "metadata": {
        "id": "4DfOlO5Alpjo",
        "outputId": "b40e5ec3-d164-4a58-ea0c-55d0a25d5d40",
        "colab": {
          "base_uri": "https://localhost:8080/"
        }
      },
      "execution_count": 22,
      "outputs": [
        {
          "output_type": "stream",
          "name": "stdout",
          "text": [
            "1/1 [==============================] - 0s 167ms/step\n"
          ]
        },
        {
          "output_type": "execute_result",
          "data": {
            "text/plain": [
              "array([[7.0201383]], dtype=float32)"
            ]
          },
          "metadata": {},
          "execution_count": 22
        }
      ]
    },
    {
      "cell_type": "markdown",
      "source": [
        "#predict age แบบ int จำนวนเต็ม"
      ],
      "metadata": {
        "id": "sABlaFr9oJ5L"
      }
    },
    {
      "cell_type": "code",
      "source": [
        "from tensorflow.keras.preprocessing import image\n",
        "\n",
        "def predict_image(img_path):\n",
        "    # Read the image and resize it\n",
        "    img = image.load_img(img_path, target_size=(height, width))\n",
        "    # Convert it to a Numpy array with target shape\n",
        "    x = image.img_to_array(img)\n",
        "    # Reshape\n",
        "    x = x.reshape((1,) + x.shape)  # Add the batch dimension\n",
        "    x /= 255.0\n",
        "    result = model.predict([x])\n",
        "    return int(result[0][0])\n",
        "\n",
        "img_path = '/content/gdrive/MyDrive/Tooth_Shap_GPT/Deep_tooth/Data_Cut_images/Normal/7Y/F/Both/FlipV1.jpg'\n",
        "predicted_value = predict_image(img_path)\n",
        "print(predicted_value)\n"
      ],
      "metadata": {
        "id": "WpqLWnfuoAru",
        "outputId": "fa76a023-abe5-4f3b-fcdb-6bd2e5694825",
        "colab": {
          "base_uri": "https://localhost:8080/"
        }
      },
      "execution_count": 23,
      "outputs": [
        {
          "output_type": "stream",
          "name": "stdout",
          "text": [
            "1/1 [==============================] - 0s 93ms/step\n",
            "7\n"
          ]
        },
        {
          "output_type": "stream",
          "name": "stderr",
          "text": [
            "<ipython-input-23-a078e6ae40a7>:12: DeprecationWarning: Conversion of an array with ndim > 0 to a scalar is deprecated, and will error in future. Ensure you extract a single element from your array before performing this operation. (Deprecated NumPy 1.25.)\n",
            "  return int(result[0][0])\n"
          ]
        }
      ]
    }
  ]
}